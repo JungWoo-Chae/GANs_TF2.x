{
  "nbformat": 4,
  "nbformat_minor": 0,
  "metadata": {
    "colab": {
      "name": "EBGAN.ipynb",
      "provenance": [],
      "collapsed_sections": [],
      "authorship_tag": "ABX9TyNTBBikVrAnxVitV1tJqQTQ",
      "include_colab_link": true
    },
    "kernelspec": {
      "name": "python3",
      "display_name": "Python 3"
    },
    "accelerator": "GPU"
  },
  "cells": [
    {
      "cell_type": "markdown",
      "metadata": {
        "id": "view-in-github",
        "colab_type": "text"
      },
      "source": [
        "<a href=\"https://colab.research.google.com/github/JungWoo-Chae/GANs_TF2.x/blob/main/EBGAN.ipynb\" target=\"_parent\"><img src=\"https://colab.research.google.com/assets/colab-badge.svg\" alt=\"Open In Colab\"/></a>"
      ]
    },
    {
      "cell_type": "markdown",
      "metadata": {
        "id": "os5kt8Hrn-up"
      },
      "source": [
        "# **EBGAN**"
      ]
    },
    {
      "cell_type": "markdown",
      "metadata": {
        "id": "i9t9SnkqqP9c"
      },
      "source": [
        "## **Imports**"
      ]
    },
    {
      "cell_type": "code",
      "metadata": {
        "id": "Nz_0R4etUofV"
      },
      "source": [
        "from __future__ import absolute_import, division, print_function\n",
        "\n",
        "import tensorflow as tf\n",
        "from tensorflow.keras import Model, layers\n",
        "from tensorflow.keras.datasets import mnist\n",
        "\n",
        "import numpy as np\n",
        "import matplotlib.pyplot as plt"
      ],
      "execution_count": 1,
      "outputs": []
    },
    {
      "cell_type": "markdown",
      "metadata": {
        "id": "DLpgO4c-qTtE"
      },
      "source": [
        "## **Hyperparameters**"
      ]
    },
    {
      "cell_type": "code",
      "metadata": {
        "id": "XMrLSc-UhWkM"
      },
      "source": [
        "lr = 0.0002\n",
        "epochs = 20\n",
        "batch_size = 128\n",
        "\n",
        "z_dim = 100 \n",
        "nf =64\n",
        "lambda_pt = 0.1"
      ],
      "execution_count": 2,
      "outputs": []
    },
    {
      "cell_type": "markdown",
      "metadata": {
        "id": "GPiMtdGxtaD5"
      },
      "source": [
        "## **Data Preprocessing**"
      ]
    },
    {
      "cell_type": "code",
      "metadata": {
        "id": "uMZEPmZuhZlC",
        "outputId": "1bc12f50-c65c-485f-c692-7f087714ed9d",
        "colab": {
          "base_uri": "https://localhost:8080/",
          "height": 54
        }
      },
      "source": [
        "(x_train, _), _ = mnist.load_data()\n",
        "x_train = (x_train.astype(np.float32)-127.5) / 127.5\n",
        "train_data = tf.data.Dataset.from_tensor_slices(x_train).shuffle(10000).batch(batch_size).prefetch(1)"
      ],
      "execution_count": 3,
      "outputs": [
        {
          "output_type": "stream",
          "text": [
            "Downloading data from https://storage.googleapis.com/tensorflow/tf-keras-datasets/mnist.npz\n",
            "11493376/11490434 [==============================] - 0s 0us/step\n"
          ],
          "name": "stdout"
        }
      ]
    },
    {
      "cell_type": "markdown",
      "metadata": {
        "id": "ASHIZmcptiNH"
      },
      "source": [
        "## **Model**"
      ]
    },
    {
      "cell_type": "code",
      "metadata": {
        "id": "-w3g4BcWxbR1"
      },
      "source": [
        "class Generator(Model):\n",
        "    def __init__(self, nf):\n",
        "        super(Generator, self).__init__()\n",
        "        self.fc = tf.keras.Sequential([layers.Dense(7 * 7 * nf * 4),\n",
        "                                        layers.BatchNormalization(),\n",
        "                                       layers.LeakyReLU(),\n",
        "                                       layers.Reshape((7, 7, nf * 4))\n",
        "                                       ])\n",
        "        self.conv1 = tf.keras.Sequential([layers.Conv2DTranspose(nf * 2, 3, strides=1, padding='SAME'),\n",
        "                                        layers.BatchNormalization(),\n",
        "                                       layers.LeakyReLU()\n",
        "                                       ])\n",
        "        self.conv2 = tf.keras.Sequential([layers.Conv2DTranspose(nf, 3, strides=2, padding='SAME'),\n",
        "                                        layers.BatchNormalization(),\n",
        "                                       layers.LeakyReLU()\n",
        "                                       ])\n",
        "        self.conv3 = layers.Conv2DTranspose(1, 3, strides=2, padding='SAME')\n",
        "\n",
        "\n",
        "    def call(self, x):\n",
        "        x = self.fc(x)\n",
        "        x = self.conv1(x)\n",
        "        x = self.conv2(x)\n",
        "        x = self.conv3(x)\n",
        "        x = tf.nn.tanh(x)\n",
        "        return x"
      ],
      "execution_count": 4,
      "outputs": []
    },
    {
      "cell_type": "code",
      "metadata": {
        "id": "q6nIDOgmha4J"
      },
      "source": [
        "class Discriminator(Model):\n",
        "    def __init__(self, nf):\n",
        "        super(Discriminator, self).__init__()\n",
        "        self.conv1 = tf.keras.Sequential([layers.Conv2D(nf * 2, 3, strides=2, padding='SAME'),\n",
        "                                        layers.BatchNormalization(),\n",
        "                                       layers.LeakyReLU()\n",
        "                                       ])\n",
        "        self.conv2 = tf.keras.Sequential([layers.Conv2D(nf * 4, 3, strides=2, padding='SAME'),\n",
        "                                        layers.BatchNormalization(),\n",
        "                                       layers.LeakyReLU()\n",
        "                                       ])\n",
        "        self.conv3 = tf.keras.Sequential([layers.Conv2D(nf * 4, 3, strides=2, padding='SAME'),\n",
        "                                        layers.BatchNormalization(),\n",
        "                                       layers.LeakyReLU(),\n",
        "                                       layers.Flatten()\n",
        "                                       ])\n",
        "        self.embedding = layers.Dense(128)\n",
        "        self.fc = tf.keras.Sequential([layers.BatchNormalization(),\n",
        "                                       layers.LeakyReLU(),\n",
        "                                       layers.Dense(7 * 7 * nf * 2),\n",
        "                                       layers.BatchNormalization(),\n",
        "                                       layers.LeakyReLU(),\n",
        "                                       layers.Reshape((7, 7, nf * 2))\n",
        "                                       ])\n",
        "        self.deconv1 = tf.keras.Sequential([layers.Conv2DTranspose(64, 3, strides=2, padding='SAME'),\n",
        "                                        layers.BatchNormalization(),\n",
        "                                       layers.LeakyReLU()\n",
        "                                       ])\n",
        "        self.deconv2 = layers.Conv2DTranspose(1, 3, strides=2, padding='SAME')\n",
        "\n",
        "    def call(self, x):\n",
        "        x = self.conv1(x)\n",
        "        x = self.conv2(x)\n",
        "        x = self.conv3(x)\n",
        "        embedding = self.embedding(x)\n",
        "        x = self.fc(embedding)\n",
        "        x = self.deconv1(x)\n",
        "        x = self.deconv2(x)\n",
        "        x= tf.squeeze(x)\n",
        "        return x, embedding\n"
      ],
      "execution_count": 5,
      "outputs": []
    },
    {
      "cell_type": "code",
      "metadata": {
        "id": "fRbCx4BYF0K7"
      },
      "source": [
        "G = Generator(nf)\n",
        "D = Discriminator(nf)"
      ],
      "execution_count": 6,
      "outputs": []
    },
    {
      "cell_type": "markdown",
      "metadata": {
        "id": "V50m2tH1trim"
      },
      "source": [
        "## **Loss Function**"
      ]
    },
    {
      "cell_type": "markdown",
      "metadata": {
        "id": "6hT77siTHxom"
      },
      "source": [
        "![ebgan_1.jpg](data:image/jpeg;base64,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)"
      ]
    },
    {
      "cell_type": "code",
      "metadata": {
        "id": "8tETv3oxhcWq"
      },
      "source": [
        "def MSE_loss(reconstructed, original):\n",
        "    gen_loss = tf.reduce_mean(tf.pow(original - reconstructed, 2))\n",
        "    return gen_loss"
      ],
      "execution_count": 7,
      "outputs": []
    },
    {
      "cell_type": "markdown",
      "metadata": {
        "id": "WG8S0MlhNqUP"
      },
      "source": [
        "![ebgan_2.jpg](data:image/jpeg;base64,/9j/4AAQSkZJRgABAQEAYABgAAD/2wBDAAMCAgMCAgMDAwMEAwMEBQgFBQQEBQoHBwYIDAoMDAsKCwsNDhIQDQ4RDgsLEBYQERMUFRUVDA8XGBYUGBIUFRT/2wBDAQMEBAUEBQkFBQkUDQsNFBQUFBQUFBQUFBQUFBQUFBQUFBQUFBQUFBQUFBQUFBQUFBQUFBQUFBQUFBQUFBQUFBT/wAARCAA6AU4DASIAAhEBAxEB/8QAHwAAAQUBAQEBAQEAAAAAAAAAAAECAwQFBgcICQoL/8QAtRAAAgEDAwIEAwUFBAQAAAF9AQIDAAQRBRIhMUEGE1FhByJxFDKBkaEII0KxwRVS0fAkM2JyggkKFhcYGRolJicoKSo0NTY3ODk6Q0RFRkdISUpTVFVWV1hZWmNkZWZnaGlqc3R1dnd4eXqDhIWGh4iJipKTlJWWl5iZmqKjpKWmp6ipqrKztLW2t7i5usLDxMXGx8jJytLT1NXW19jZ2uHi4+Tl5ufo6erx8vP09fb3+Pn6/8QAHwEAAwEBAQEBAQEBAQAAAAAAAAECAwQFBgcICQoL/8QAtREAAgECBAQDBAcFBAQAAQJ3AAECAxEEBSExBhJBUQdhcRMiMoEIFEKRobHBCSMzUvAVYnLRChYkNOEl8RcYGRomJygpKjU2Nzg5OkNERUZHSElKU1RVVldYWVpjZGVmZ2hpanN0dXZ3eHl6goOEhYaHiImKkpOUlZaXmJmaoqOkpaanqKmqsrO0tba3uLm6wsPExcbHyMnK0tPU1dbX2Nna4uPk5ebn6Onq8vP09fb3+Pn6/9oADAMBAAIRAxEAPwD9U6KKKACiiigAooooAKKKKACiiigAooooAKKKKACiiigAoryjwz4k15f2k/GPha91iTUNEt/DGlava2rwRILeWe81KJwpVQxGy2hHzE8gnjOK9XoAKKKKACiikzQAtFJuHrRketAC0UlG4etAC0Um4etLQAUVg6/4wtNB1jRNIMU15qmrystva24BYRJgzTvkgLHGGXLHu6KMs6g71ABRRXzp8XvjjpPw1+L1xY/EqbxB4Z8BHS7WTSdc0+K7XT5bt5Jhci6ubUZiZVEAVZCqYZmOcjaAeqeIvjh8PfCOtPpGt+NtB0nVUfy2srzUYopQ2zft2swOdvzY9Oa67TdStNY0+1v7C5ivLK6iWaC4hcOksbAFWUjggggg+9eKX/gbxEmtfAuWW/ufFg0nxRqWo3+sFhIEtptL1RYWZgANoNxBECBjla6D9ozxtrHgHwTp2p6bp2sX+mHVraHXJNAtmub61047jLLFGgLtyI1YoCyo7uuCoIAPVKK8i+B/iXQPiReah4v8F+M7zxD4Ma3TT4tPuri4d7S+SSQ3JlW4HnI5Q2wCOflwxCjeS3q9neQahZwXVrPHc2s6LLFPC4dJEYZVlYcEEEEEdc0ATUUVha54ws/DuuaNp+oJJbxatI1tbXxx5H2jG5YGOcqzqG2kjaShXIYoGAN2iuX+IkyWmhw3d1rZ0TS7a5SS+ZFfzLmLDKII2jdXR2kaPBTLEjaFO7FZfwRm1qf4d2r6/fjUL43d55bmZJ5Ibf7VL9ngmkQlZJoofLjkYE5dG5Y/MQDvKKKKACiiigArz/4ifE2/8KeJNC8N6D4dfxP4g1W3ub9bNbtLUR2tvJbxzSF3GMhrqHAOMjdg5AB9ArxPRvDOleJv2sPFuuS6TZyy+HfD2m2MN49shkF3PLcTTHdjO5Yo7PBzkBsdKAPbKK+dofEXxF8bN8TbnwjqWpNcQeIJdL8NtPHZjTbcW6QwzmcsvmPGLpboMFy+1QFIbkdF4kuPFsfxm8IeGbTxpqEMWp/2prWoW9vaWRjh0+BY4YYUL27MCZbq3YszFiY5MHbwAD0Pxl4sPh2TRdPtY0n1jW737DZRSH5ARG8ssr452pFHI2ONxCpkFwaqeJvHp0zxhpHhLS7WHUPEOo2lxqIhuLgwRQ2sLxJJK7BWOd88SqoXnJ5AUmuR1Gx1HRPiz8KP7Z1KTVW/s7WNPa9liRDNeOttNGSEVVDeTb3XRRwG4rm/i14e+Hnxg1rUrbxrZa1oWseFrtoNB13Spryxv5lkt4Xkaxmgw058wtGYl3/NCCV6GgDtm+K2p6bpmrarrmgppGnaNrKaXeuLnzg0DJD/AKZG21f3avN8wYAhEduCu0+l18/a9pvibRf2H9d0vxje3OpeK28H3dlNLdMr3MtxLA8cEcjJw0xLxozLkM+SCc5r3LULW4uNBubYD7RdPbNGALh7be5Qj/WoC0eT/GoyvUcigC/RXiX/AArfxP8A9AKX/wAOlrv/AMar1fwpY3GmeHbG1uoTb3EaYeM6jNflTk/8vEwEkn1YZ7dqANaivHvGcXjLw/qvm3fxk8OeGrLULto9OtdS0KIMdz4SFXe6XzGG5V4GSccc4qnqlv470PWLDSdR+OHhiw1TUDts7G68Owxz3JzjEaNdhn544BoA9torx5fDfxPbVW01fi3pLXyQi4eFfCQJSMsVVm/0nC7iGxn72xsZ2nFXSrPx7ruqajpum/G7w1qGo6awS+s7Xw7DLNasSwAlRbslCSrfeA+6fSgDe0n4f+IrP48a546nudLbTNS0az0QWcfmedHHbXF5Mku4jaWY3ZBXAA2cE16bXiXh238d+L1uW0H44eGNbW1k8qc6d4dhuBE/PyvsuztPB4PpWv8A8IL8Wv8Aoqmlf+Ekv/yVQB6tRXlP/CC/Fr/oqmlf+Ekv/wAlUz/hDfiqJxAfizo/nFS4j/4RRNxUEAnH2rpkjn3oA9Zr5h/bo/Zdl+PHg3TPE/hi0s5fiX4Nl/tHRFvYEmgv1UhpLKZHG10k2jAbjdgcBmr1PwLpPjiTWY7zUfiNpviHSbaWWC60+38Oi0kMiqy7S/nsUKsVb7vIHowNel0AfMv7Ma/BP9pX4V2Pimw+FvhDTtUidrLWdGm0G1E2m3yYEsDgx5xnlSRypGQDkDpvHP7E/wAHfGC293Z+CNH8JeIrGZLvTtf8N2Udhd2dzGweKZTEoDlWAO1wynHSuT+G/wAJYLf9sjxn8RfAGoyaZ4RvLJtP8V2aRg2erawj8PBzxJEM+bIBjezIMsZtn1BQB5d+0B8BdH/aS+DOqeBPFYRWvYVeK9t0ObO8UZSeME5+Vs8E8qWUnk184/sZ2PgrxIuufCH4n/DTwdbfF/wLi3v2fQrXGr2fAhv4iY/mDKU3H1ZWON+0fb9fL/7Qfwlg+I/7Rnwt1rwTqMmh/E3wxcLd6nq9tGHij0Ni4kt7oZG4zNuSJOpzMeArMAD0HxZ+yD8EfG2mzWOrfCrwm8UoKmS10mG1nXP92WJVdT9GFdr8L/A//CtfAuleFY7+fUrHR4vsdjcXTbpvsqnEKSN/EyJtTd/FsDHkmuqooA8h+Dly3jL4j/FHxfOWcQauPC+nK3IitbJF83b6F7qW53EdRHGDnYMevV4z+yvuj8E+LoJM/aYfHXicShuuW1e6dSfqjoR7EVY8bHxjYeINUa3+KWmaFYxRLeLYzeGPtL28DPsUmQTjf8wI6A+1AHr1eU33gPxvrngnX/CGq6npN1Y649/HNq6iT7Ra2t1LIxgSBlZJGjjk8tJGdRwpMZ2lWqat4d+Jeg2Ml7qXxh0LT7OMgNcXXheONASQACxusZJIA9SRVbRdP+IPiRpl0r40+HtRaFVaVbXwzHI0YYsBuAuvlyUcc91PoaAOh0PWrfTfirb+CbS0Ftp+h6DGbcpeyBVSRgkKNFnbIxFrPgkFoxFnOJ8DY1zTPF0fjWPWNJutOu9Ij0/7L/Y97JJAWmaQs03nKr4wqxqF8s5y3K9/OrrRfHFjrk7TfFnQo9Vja3sJJf8AhDB5oMzfuYy32jOGY8DOATzirF1a/EKzvZrSb4w6QlzDPBbPH/wiGcSTHES/8fP8X/68UAS+JNHm+Dfwy+I3iWLUEXxTq0lz4hu/sMSr9oulto4ILeBXzjiG1i3EEsSzYUuNvrWg2dxp2h6daXcsc91BbRxTSQxiNHdVAYqoGFBIOAOBXi3izwD4vtptO1TxL8T/AAms9rIUsbvUvB8BeKRirlYme5yGJiVsLyfLB/hGNPRtG+I3iK3kn0r4zeH9Thjfy3ks/DMcqq21X2krdHB2upx6MD3oA9lrlfip4Pbx98O9f0KGVra9urVjZXSY3212nz28656NHKsbqexQV53qFr8QtJvprO7+MOkQ3MP2PzIz4Qzt+1TtBb9Ln+OVGX2xk4HNexaPb3lrpNnDqF2l/fxwolxdRw+Ss0gUBnCZO0E5O3JxnGTQBwvgDUND/aE+Cvg/XvEOg6fqtnrWmWupy6dqdok8UU7RAsuxwRuRiy+2DXb6F4f0vwvpMGl6NptppGmW+RDZ2MCwQx5YsdqKABkkngdSTXlP7He4/s1+B5Sd0c9tLcQtnOYpLiV4yPbYy4r03xF4mg8NtpSzWeoXf9o30dhGbCzkuBEzhiJJdgPlxDacyNhQSMnmgDYooooAKKKKAGTRLPC8b52upU7WKnB9COR+Fc14D+G+h/DjQH0jRYZo7eTYZZpp3kmlKQxwIWkJ3ErFFEgOc4Qd+a6iigDG8J+ENJ8D6SdM0W2azsjPLcmJppJf3srmSV8uxOWdmc88szHqTUK+BdGTxgfFAt5jrhg+y/amu5iPJzny9hfZtz82MYzz15rfooAyvEXhu18TWcMNyZIpbadLq1uYSBLbzIfldCQecEggghlZlYFWIOrRRQBla74btfEbWAvjJJb2dyl4LYECOSWMhomcY52OFcDpuVT2FatFFABRRRQB5Z8c/h3YfGrT18A6kzRWV7YXt09xHy8EojEELj0ZWuWlU/3oBjoa5z9nP4gXvxcsdJvdejSHxX4V0+bRdehAB2ap9oMNxj+7zZeYvqlyvY8+rWXgfTbDxhfeJopdQbVL23jtZll1Gd7fy0LMgWBnMaEF35VQfmPNWNC8I6P4ZvtcvNLsIrK51u9/tHUJIwR9ouPJjh8w+/lwxjj+7nqSSAcd8D5m1ix8Ya9OWa81DxTqsEm7+FLO6ewiUei+XaK2PV2PUmvJPHFxF8L/AIjeFPjlJIttpGr6nP4b8TXJOIv7NuJVi027YngLHLDb/Mei3chr2nQfA02j6j4t0sm4Gga3dtqkE9pdNBLayyhRcQhlYOu6RWmDqessg+Xau69J8K/DN18Nj4CvbB9U8LG0Fg1nqNzLcs0I+6rSSMXOMDBLZGBzxQBZ+Hdm9r4N06WaE291fB9RuYiuCk1w7TyLj2aRhz6VV1H4kW2m31xatoXiKdoXKGS30eeSNsd1YLhh7iuuooAy/D2vR+IrFrqKzvrFVcx+XqFq9vJwAchXAOOevsa8j0vSLDS/2ytVksrK3tJLrwRFPcNBEqGaQ6hJl3IHzN7nmvcK49fhT4fT4hN43A1H/hI2thZGc6pcmIwCQyCLyfM8vbuJONvegDG0e4bS/wBoPxNp0RYWup6BY6nJGPuLcRzTwPJ/vPGIFPtbrWD+0p428Z6BpOlaN4P8IeJ9eGrStHqeqeGFtjc6daAfP5PnzRr50mditn5Ms/JVVbt/DHhi6j8ceJvFWop5NzqEdvptpb7w3lWdsZWRmxkB3kuJ2OD9zygeVIHYUAfO/hz47al4R0Gw0XRv2cfidp+l2MKwW1rDb6UFjRRgD/j/AMn3J5JyTk1heMP2ivjX4gNpovgb4BeI9DvdSuI7VvEPiq5s1ttMR3CtcNDDM5l2KS23cOnfofeviH4yj8H6fpwY3Mc2paha6dDNb2wmEbzTxxKWBZQRmQZwSwXc20hGx1dAHB/FbxP4g+HHwxvb3wp4b1Dxz4it4Ut7HTYXVpZpCAoklZ3QbR95juBOMDkivGvhz8Wtc+H+iywf8KI+K+q6vfTG81XWLi20kTahdMAGlcC/wowqqqD5UREReFFfTl1cpZ2s1xLu8uFGkbYhdsAZOFAJJ9gMmuM0P4nWV9os+qz/AG65t21K7sI4rDRbmaSBreVoZI5BD5u4rJHIPMGFPQDINAHkvij9qP4kW2mzt4c/Zr8fajqG391Hql1p1pET/tMlxKQPopr1/wCDy+K5Phxol3458uPxdfQ/bdTtYP8AVWk0h3/Zoxk/LECIwcnOzcSSSTheGfjPZ61pfiLxLLFqUPh22AksfO0m4thLbLwbjzJURCHZiRhsCNUc7ctju/Cuoy6x4X0e/nnS5murOGd5o7V7VZGZAxYQuzNGDnOxmYr0JJGaAPPfBdt/wr74zeMtDn/d6d4umXxJpUjDCm4WGO3vbcH+8PJgnAPLefKRkI2Mj4zf8hvxP/2LVv8A+lrV7DqejWWsfZftttHcG1uEuoGYfNFKudrqeoOCRx1DMDkEg+dfEzwXrPiDVNemsLPz47nQ4bOJvNRd0q3RkK8kY+U5yeKAKHx08O+Ndd17wnq3w9udBvte8K3Ml/ceHvEMssNtdxTwywK4ljVjHKuJQjFSPmcHFL8EfG1v4o8N33i+48JzeHfFmt61JpmsaSt3DO6XdnKbGXZMSizRRiBn3L8xUNhScLXY3vwy0248Salr1te6ppmrakkUN5cWV4yiaGNSEj2HKqBliGUBwXYhhuNY/iD4RwzXngNdDW00/TPDV+101tKrs0qlHH3sks29/NO45aRUdmJUhgDmPF3/ACPetf8AYe8O/wDoyjxZ/wAj5rP/AGMHh7/0IVueIvBes33izU72Cz3202r6LdI/moMxwPmZsE5+Udup7Zo8QeC9ZvvFup3sFnvtptY0a6R/NQZjgbMrYJz8vp1PbNAHP/FzSfiND8StN8b/AA2g8P8Ai6TRdOuNH1Dwvrd7JZOGlaCffbXCo6pKyrGCJF2ldpzXRfB3xZoup/CrQ/F2j6Jcad/wmDprL6XI8K3BuLpg0vLMivsBJJByUjyAxwDsyfCLRvtWsy295q1kmt3DXOqw22oSIl47KFyecx4RUTMRQlUUEkAVz3jbw6viHxP4L8M6VoE9ppWjanbXN5dC18m0hsraMzwRQN90/wClRWQKL2jJxhBQBlfEr/kftc/7kv8A9P1xXY/GvxJqGg+Ab+10Ha/ivWg2k6HC3Rr2VGCOcc7IwHmc9kic9qyfHHgvWdY8Xare2ln5ttN/wjHlyeagz9k1ea4ueCc/JE6t75wuTxXok2i2Nxq9tqktrHJqFtE8EFw4y0SOVLhfTdtXOOu0Z6UAUPAfg+x+Hvgfw/4W0wEabomn2+m227r5cMaxrn3wordoooAKKKKACiiigAooooAKKKKACiiigAooooAKKKKACiiigAooooAKKKKACiiigAooooAxfE3g3SPGK6cur2puhp919stsSumyXypIiflIyCksi4OR83TpW1RRQBm6/wD2uNPzogsmvxJGduoFxEybhvGUyQ23ODggHGQRXn0nwMsrj4UaV4LvTaaq8bZvtSurYB5GlkMl5NEvPlySs8uCGyhkzklefU6KAOMuPg34Mk8N6voVt4dsNM0/VbJ9Puk06BLcvAy7SmVA4x26diCK6vT7FNNs4baNpHSNdu6Vy7t6liepJ5J96sUUAFFFFABRRRQAUUUUAFFFFABRRRQAUUUUAFFFFAH/2Q==)"
      ]
    },
    {
      "cell_type": "code",
      "metadata": {
        "id": "5K_lNWK5Njzs"
      },
      "source": [
        "def PT_loss(embeddings):\n",
        "    norm = tf.sqrt(tf.reduce_sum(embeddings ** 2, -1, keepdims=True))\n",
        "    normalized_emb = embeddings / norm\n",
        "    similarity = tf.matmul(normalized_emb, tf.transpose(normalized_emb,perm=[1, 0]))\n",
        "    batch_size = embeddings.shape[0]\n",
        "    loss_pt = (tf.reduce_sum(similarity) - batch_size) / (batch_size * (batch_size - 1))\n",
        "    return loss_pt"
      ],
      "execution_count": 8,
      "outputs": []
    },
    {
      "cell_type": "markdown",
      "metadata": {
        "id": "NuMM5udyttOO"
      },
      "source": [
        "## **Train**"
      ]
    },
    {
      "cell_type": "code",
      "metadata": {
        "id": "QP5BL-teNhGw"
      },
      "source": [
        "optimizer_G = tf.optimizers.Adam(learning_rate=lr, beta_1=0.5, beta_2=0.999)\n",
        "optimizer_D = tf.optimizers.Adam(learning_rate=lr, beta_1=0.5, beta_2=0.999)"
      ],
      "execution_count": 9,
      "outputs": []
    },
    {
      "cell_type": "code",
      "metadata": {
        "id": "4FH7ORxMhf5N",
        "outputId": "6548dc0a-6418-4b7a-b4b2-f33c44a259be",
        "colab": {
          "base_uri": "https://localhost:8080/",
          "height": 381
        }
      },
      "source": [
        "for epoch in range(epochs):\n",
        "    for imgs in train_data:\n",
        "        noise = tf.random.normal(shape=[batch_size, z_dim])\n",
        "        margin =  max(1, batch_size / 64.0)\n",
        "\n",
        "        with tf.GradientTape() as g:\n",
        "                \n",
        "            fake_images = G(noise)\n",
        "            recon_fake,_ = D(fake_images)\n",
        "            recon_real,_ = D(imgs)\n",
        "\n",
        "\n",
        "            D_loss = MSE_loss(recon_real, imgs) + tf.maximum(0, margin - MSE_loss(recon_fake, tf.squeeze(fake_images)))\n",
        "\n",
        "        gradients_D = g.gradient(D_loss,  D.trainable_variables)\n",
        "        optimizer_D.apply_gradients(zip(gradients_D,  D.trainable_variables))\n",
        "\n",
        "        noise = tf.random.normal(shape=[batch_size, z_dim])\n",
        "\n",
        "        with tf.GradientTape() as g:\n",
        "                \n",
        "            fake_images = G(noise)\n",
        "            recon_fake,embeddings = D(fake_images)\n",
        "          \n",
        "            G_loss = MSE_loss(recon_fake, tf.squeeze(fake_images)) + lambda_pt*PT_loss(embeddings)\n",
        "\n",
        "        gradients_G = g.gradient(G_loss,  G.trainable_variables)\n",
        "        optimizer_G.apply_gradients(zip(gradients_G,  G.trainable_variables))\n",
        "    \n",
        "        \n",
        "    print(f\"epoch: {epoch+1}/{epochs}, G_loss: {G_loss}, D_loss: {D_loss}\")"
      ],
      "execution_count": 10,
      "outputs": [
        {
          "output_type": "stream",
          "text": [
            "epoch: 1/20, G_loss: 2.141690254211426, D_loss: 0.661440372467041\n",
            "epoch: 2/20, G_loss: 2.0739386081695557, D_loss: 1.9765585660934448\n",
            "epoch: 3/20, G_loss: 1.526235818862915, D_loss: 1.7063417434692383\n",
            "epoch: 4/20, G_loss: 2.172741651535034, D_loss: 1.2949352264404297\n",
            "epoch: 5/20, G_loss: 2.125450849533081, D_loss: 0.4808059632778168\n",
            "epoch: 6/20, G_loss: 2.479526996612549, D_loss: 0.5639049410820007\n",
            "epoch: 7/20, G_loss: 3.753418207168579, D_loss: 0.7297188639640808\n",
            "epoch: 8/20, G_loss: 1.7595998048782349, D_loss: 0.31107184290885925\n",
            "epoch: 9/20, G_loss: 4.327711582183838, D_loss: 0.7461058497428894\n",
            "epoch: 10/20, G_loss: 4.697973251342773, D_loss: 0.6647725105285645\n",
            "epoch: 11/20, G_loss: 2.1197943687438965, D_loss: 0.2982529103755951\n",
            "epoch: 12/20, G_loss: 4.475893974304199, D_loss: 1.2543387413024902\n",
            "epoch: 13/20, G_loss: 1.586119294166565, D_loss: 0.3127325773239136\n",
            "epoch: 14/20, G_loss: 2.7441372871398926, D_loss: 0.34865283966064453\n",
            "epoch: 15/20, G_loss: 1.6654722690582275, D_loss: 0.5242882370948792\n",
            "epoch: 16/20, G_loss: 4.780396938323975, D_loss: 0.3628404140472412\n",
            "epoch: 17/20, G_loss: 5.875275611877441, D_loss: 0.7769407629966736\n",
            "epoch: 18/20, G_loss: 1.5778573751449585, D_loss: 0.3129229247570038\n",
            "epoch: 19/20, G_loss: 3.037597417831421, D_loss: 1.1573638916015625\n",
            "epoch: 20/20, G_loss: 5.337356090545654, D_loss: 0.9168875813484192\n"
          ],
          "name": "stdout"
        }
      ]
    },
    {
      "cell_type": "markdown",
      "metadata": {
        "id": "YiXdpnECtuLh"
      },
      "source": [
        "## **Visualization**"
      ]
    },
    {
      "cell_type": "code",
      "metadata": {
        "id": "U_d8g60bpmlS",
        "outputId": "0c20c882-3d00-46fd-9ece-9411e89eadab",
        "colab": {
          "base_uri": "https://localhost:8080/",
          "height": 303
        }
      },
      "source": [
        "n = 4\n",
        "z = tf.random.normal(shape=[n**2, z_dim])\n",
        "gen_imgs = G(z, training=False)\n",
        "\n",
        "fig = plt.figure(figsize=(5,5))\n",
        "\n",
        "for i in range(gen_imgs.shape[0]):\n",
        "    plt.subplot(n, n, i+1)\n",
        "    plt.imshow(gen_imgs[i, :, :, 0] * 127.5 + 127.5, cmap='gray')\n",
        "    plt.axis('off')\n",
        "\n",
        "plt.show()"
      ],
      "execution_count": 11,
      "outputs": [
        {
          "output_type": "display_data",
          "data": {
            "image/png": "[encoded data removed]",
            "text/plain": [
              "<Figure size 360x360 with 16 Axes>"
            ]
          },
          "metadata": {
            "tags": [],
            "needs_background": "light"
          }
        }
      ]
    },
    {
      "cell_type": "code",
      "metadata": {
        "id": "N__myzJZqU1u"
      },
      "source": [
        ""
      ],
      "execution_count": null,
      "outputs": []
    }
  ]
}